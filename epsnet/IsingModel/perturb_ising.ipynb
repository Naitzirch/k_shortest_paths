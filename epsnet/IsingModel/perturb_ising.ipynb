{
 "cells": [
  {
   "attachments": {},
   "cell_type": "markdown",
   "metadata": {},
   "source": [
    "set_subset and draw_system_graph from eps-net repository by Patrick Emonts 2023"
   ]
  },
  {
   "cell_type": "code",
   "execution_count": 8,
   "metadata": {},
   "outputs": [],
   "source": [
    "import networkx as nx\n",
    "import matplotlib.pyplot as plt\n",
    "import random"
   ]
  },
  {
   "cell_type": "code",
   "execution_count": 39,
   "metadata": {},
   "outputs": [],
   "source": [
    "import ast\n",
    "def parse_tuple(string):\n",
    "    try:\n",
    "        s = ast.literal_eval(str(string))\n",
    "        if type(s) == tuple:\n",
    "            return s\n",
    "        return\n",
    "    except:\n",
    "        return\n",
    "\n",
    "def set_subset(dest, n):\n",
    "    # Distribute subsets according to the sites (this makes drawing easier)\n",
    "    nodes = []\n",
    "    for node in dest.nodes():\n",
    "        if node != 's' and node != 't':\n",
    "            nodes.append(parse_tuple(node))\n",
    "    \n",
    "    subsetdict = {str((x,i)):{\"subset\":x} for (x,i) in nodes}\n",
    "    nx.set_node_attributes(dest,subsetdict)\n",
    "    dest.nodes['s']['subset'] = -1\n",
    "    dest.nodes['t']['subset'] = n\n",
    "\n",
    "def draw_system_graph(graph,ax=None):\n",
    "    \"\"\"Draw the connectivity graph for the nsite system.\n",
    "    This graph is fully connected between the different sites.\n",
    "    The number of nodes in each layer is given by the number of points in the respective eps-net on the site.\n",
    "\n",
    "    Args:\n",
    "        ax (plt.axis, optional): Matplotlib axis to use for drawing. Defaults to None.\n",
    "    \"\"\"\n",
    "    f, axvec = plt.subplots(1,1)\n",
    "    pos = nx.multipartite_layout(graph)\n",
    "    labels = nx.get_edge_attributes(graph,'weight')\n",
    "    new_labels = {}\n",
    "    for k, v in labels.items():\n",
    "        new_labels[k] = round(v, 2)\n",
    "\n",
    "    pred, dist = nx.dijkstra_predecessor_and_distance(graph.reverse(copy=True), 't')\n",
    "    #get edges in pred\n",
    "    cedges = []\n",
    "    for u in pred:\n",
    "        for v in pred[u]:\n",
    "            cedges.append((u, v))\n",
    "\n",
    "    edge_color = []\n",
    "    for e in graph.edges():\n",
    "        if e in cedges:\n",
    "            edge_color.append('red')\n",
    "        else:\n",
    "            edge_color.append('black')\n",
    "\n",
    "    nx.draw_networkx(graph, pos, ax=ax,with_labels=True)\n",
    "    nx.draw_networkx_edges(graph, pos, width=2.0, edge_color=edge_color)\n",
    "    # nx.draw_networkx_edge_labels(graph, pos, ax=ax,edge_labels=new_labels)"
   ]
  },
  {
   "cell_type": "code",
   "execution_count": 53,
   "metadata": {},
   "outputs": [],
   "source": [
    "l = [\n",
    "    \"ising_nsites_2_npoints_4.gml\",\n",
    "    \"ising_nsites_3_npoints_4.gml\",\n",
    "    \"ising_nsites_4_npoints_4.gml\",\n",
    "    \"ising_nsites_5_npoints_4.gml\",\n",
    "    \"ising_nsites_5_npoints_6.gml\",\n",
    "    \"ising_nsites_5_npoints_10.gml\",\n",
    "    \"ising_nsites_5_npoints_20.gml\",\n",
    "]\n",
    "\n",
    "#g = nx.read_graphml(\"ising_nsites_2_npoints_4.gml\")\n",
    "#g = nx.read_graphml(\"ising_nsites_3_npoints_4.gml\")\n",
    "#g = nx.read_graphml(\"ising_nsites_4_npoints_4.gml\")\n",
    "#g = nx.read_graphml(\"ising_nsites_5_npoints_10.gml\")\n",
    "#g = nx.read_graphml(\"ising_nsites_5_npoints_20.gml\")\n",
    "\n",
    "for path in l:\n",
    "    g = nx.read_graphml(path)\n",
    "\n",
    "    for e in g.edges():\n",
    "        if e[0] != 's' and e[1] != 't':\n",
    "            g.edges[e]['weight'] += random.random() / 10**6\n",
    "            \n",
    "            # g.edges[e]['weight'] = int(random.random()*100)\n",
    "            # g.edges[e]['weight'] = round(random.random(), 2)*100\n",
    "\n",
    "    nx.write_graphml(g, \"perturbated/p_\" + path)\n",
    "\n",
    "# set_subset(g, 10)\n",
    "# draw_system_graph(g)\n",
    "# plt.show()"
   ]
  }
 ],
 "metadata": {
  "kernelspec": {
   "display_name": "Python 3",
   "language": "python",
   "name": "python3"
  },
  "language_info": {
   "codemirror_mode": {
    "name": "ipython",
    "version": 3
   },
   "file_extension": ".py",
   "mimetype": "text/x-python",
   "name": "python",
   "nbconvert_exporter": "python",
   "pygments_lexer": "ipython3",
   "version": "3.11.0"
  },
  "orig_nbformat": 4
 },
 "nbformat": 4,
 "nbformat_minor": 2
}
